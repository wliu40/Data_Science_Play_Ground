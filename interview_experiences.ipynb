{
 "cells": [
  {
   "cell_type": "markdown",
   "metadata": {},
   "source": [
    "### anomolies detection with xgboost\n",
    "\n",
    "locomotive losing cooling water, lubricant oil\n",
    "monitor the locomotives's engine RPM, Water pressure,\n",
    "oil pressure, speed, gear, locomotive types and etc. \n",
    "\n",
    "Parse the log, extract the informations\n",
    "data clean, remove outliers, feature engineering and etc\n",
    "\n",
    "group and cluster the data, such that generate the trainning\n",
    "and testing \n",
    "try different models, like isolation forest/auto-encoder/LSTM /xgboost\n",
    "\n",
    "train a xgboost classifier\n",
    "\n"
   ]
  },
  {
   "cell_type": "markdown",
   "metadata": {},
   "source": [
    "Geographic GPS data matching\n",
    "\n",
    "developed KD-Tree matching of two big table, one is gis, one is the kld data\n",
    "\n"
   ]
  }
 ],
 "metadata": {
  "kernelspec": {
   "display_name": "Python 3",
   "language": "python",
   "name": "python3"
  },
  "language_info": {
   "codemirror_mode": {
    "name": "ipython",
    "version": 3
   },
   "file_extension": ".py",
   "mimetype": "text/x-python",
   "name": "python",
   "nbconvert_exporter": "python",
   "pygments_lexer": "ipython3",
   "version": "3.7.1"
  }
 },
 "nbformat": 4,
 "nbformat_minor": 2
}
