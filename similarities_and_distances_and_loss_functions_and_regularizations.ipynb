{
 "cells": [
  {
   "cell_type": "code",
   "execution_count": null,
   "metadata": {},
   "outputs": [],
   "source": [
    "pearson similarity\n",
    "jasca \n",
    "manhantan\n",
    "cosine\n",
    "\n",
    "\n",
    "\n",
    "Euclidean Distance.\n",
    "Manhattan Distance.\n",
    "Jaccard Similarity.\n",
    "Minkowski Distance.\n",
    "Cosine Similarity."
   ]
  }
 ],
 "metadata": {
  "kernelspec": {
   "display_name": "Python 3",
   "language": "python",
   "name": "python3"
  },
  "language_info": {
   "codemirror_mode": {
    "name": "ipython",
    "version": 3
   },
   "file_extension": ".py",
   "mimetype": "text/x-python",
   "name": "python",
   "nbconvert_exporter": "python",
   "pygments_lexer": "ipython3",
   "version": "3.7.1"
  }
 },
 "nbformat": 4,
 "nbformat_minor": 2
}
