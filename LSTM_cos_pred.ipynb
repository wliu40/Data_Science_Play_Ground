{
 "cells": [
  {
   "cell_type": "code",
   "execution_count": 1,
   "id": "fdb7a686",
   "metadata": {},
   "outputs": [],
   "source": [
    "import os\n",
    "import pandas as pd\n",
    "import numpy as np\n",
    "import tensorflow as tf\n",
    "from tensorflow import keras\n",
    "from tensorflow.keras.layers import Dense, InputLayer, LSTM, Embedding, Flatten, Dropout, Lambda\n",
    "from tensorflow.keras import Sequential\n",
    "import matplotlib.pyplot as plt\n",
    "from tensorflow.keras.preprocessing.sequence import TimeseriesGenerator\n",
    "\n",
    "os.environ[\"KMP_DUPLICATE_LIB_OK\"]=\"TRUE\"\n",
    "%matplotlib inline"
   ]
  },
  {
   "cell_type": "code",
   "execution_count": 12,
   "id": "5a5f8fcb",
   "metadata": {},
   "outputs": [
    {
     "data": {
      "text/plain": [
       "array([[ 0.15425145],\n",
       "       [ 0.03462239],\n",
       "       [-0.08550663],\n",
       "       [-0.20440091],\n",
       "       [-0.32034356],\n",
       "       [-0.43166033],\n",
       "       [-0.53674377],\n",
       "       [-0.63407644],\n",
       "       [-0.72225281],\n",
       "       [-0.79999959]])"
      ]
     },
     "execution_count": 12,
     "metadata": {},
     "output_type": "execute_result"
    }
   ],
   "source": [
    "x = np.linspace(-30, 30, 500)\n",
    "y = np.cos(x)\n",
    "y = np.expand_dims(y, axis=-1)\n"
   ]
  },
  {
   "cell_type": "code",
   "execution_count": 46,
   "id": "f177f3aa",
   "metadata": {},
   "outputs": [],
   "source": [
    "train_size = int(len(y)*.8)\n",
    "trainy = y[:train_size]\n",
    "testy = y[train_size:]\n",
    "train = TimeseriesGenerator(trainy, trainy, stride=1, batch_size = 4, length=8)"
   ]
  },
  {
   "cell_type": "code",
   "execution_count": 99,
   "id": "3ee53ad2",
   "metadata": {},
   "outputs": [
    {
     "name": "stdout",
     "output_type": "stream",
     "text": [
      "Model: \"sequential_11\"\n",
      "_________________________________________________________________\n",
      "Layer (type)                 Output Shape              Param #   \n",
      "=================================================================\n",
      "lstm_11 (LSTM)               (None, 8)                 320       \n",
      "_________________________________________________________________\n",
      "dense_22 (Dense)             (None, 8)                 72        \n",
      "_________________________________________________________________\n",
      "flatten_11 (Flatten)         (None, 8)                 0         \n",
      "_________________________________________________________________\n",
      "dense_23 (Dense)             (None, 1)                 9         \n",
      "=================================================================\n",
      "Total params: 401\n",
      "Trainable params: 401\n",
      "Non-trainable params: 0\n",
      "_________________________________________________________________\n"
     ]
    }
   ],
   "source": [
    "model = Sequential([InputLayer(input_shape=(8, 1)),\n",
    "                  LSTM(8, return_sequences=False),\n",
    "                  Dense(8),\n",
    "                  Flatten(),\n",
    "                  Dense(1)])\n",
    "model.compile(loss='mse', optimizer='adam', metrics=['mape'])\n",
    "model.summary()"
   ]
  },
  {
   "cell_type": "code",
   "execution_count": null,
   "id": "dd82fba8",
   "metadata": {},
   "outputs": [],
   "source": [
    "model.fit(train, epochs=100, verbose=0)\n",
    "preds = []\n",
    "start_seed = trainy[-8:]\n",
    "\n",
    "for i in range(steps):\n",
    "    pred = model.predict(np.expand_dims(start_seed, 0))\n",
    "    preds.append(pred[0][0])\n",
    "    start_seed = np.append(start_seed[-7:], pred[0])\n",
    "    start_seed = np.expand_dims(start_seed, -1)"
   ]
  },
  {
   "cell_type": "code",
   "execution_count": 102,
   "id": "2fade42b",
   "metadata": {},
   "outputs": [
    {
     "name": "stderr",
     "output_type": "stream",
     "text": [
      "C:\\Users\\weiliu\\AppData\\Local\\Temp\\ipykernel_6804\\3030588557.py:4: UserWarning: Matplotlib is currently using module://matplotlib_inline.backend_inline, which is a non-GUI backend, so cannot show the figure.\n",
      "  fig.show()\n"
     ]
    },
    {
     "data": {
      "image/png": "[encoded data removed]",
      "text/plain": [
       "<Figure size 432x288 with 1 Axes>"
      ]
     },
     "metadata": {
      "needs_background": "light"
     },
     "output_type": "display_data"
    }
   ],
   "source": [
    "   \n",
    "fig, ax = plt.subplots()\n",
    "ax.plot(range(len(testy)), testy, marker='.', color='g')\n",
    "ax.scatter(range(len(preds)), preds, marker='x', color='r')\n",
    "fig.show()"
   ]
  },
  {
   "cell_type": "code",
   "execution_count": 25,
   "id": "fb73cbc6",
   "metadata": {},
   "outputs": [],
   "source": [
    "def window_series(series, window_size, batch_size):\n",
    "    series = tf.data.Dataset.from_tensor_slices(series)\n",
    "    ds = series.window(window_size+1, shift=1, drop_remainder=True)\n",
    "    ds = ds.flat_map(lambda w: w.batch(window_size+1))\n",
    "    ds = ds.shuffle(10)\n",
    "    ds = ds.map(lambda w: (w[:-1], w[-1]))\n",
    "    ds = ds.batch(batch_size).prefetch(1)\n",
    "    return ds\n",
    "\n",
    "window_size = 10\n",
    "batch_size = 16\n",
    "y_train = window_series(y, window_size, batch_size)"
   ]
  },
  {
   "cell_type": "code",
   "execution_count": 27,
   "id": "e9c3fafd",
   "metadata": {},
   "outputs": [
    {
     "name": "stdout",
     "output_type": "stream",
     "text": [
      "(16, 10, 1) (16, 1)\n"
     ]
    }
   ],
   "source": [
    "for i,j in y_train:\n",
    "    print(i.shape, j.shape)\n",
    "    break"
   ]
  },
  {
   "cell_type": "code",
   "execution_count": 29,
   "id": "383cb437",
   "metadata": {},
   "outputs": [
    {
     "name": "stdout",
     "output_type": "stream",
     "text": [
      "Model: \"sequential_5\"\n",
      "_________________________________________________________________\n",
      "Layer (type)                 Output Shape              Param #   \n",
      "=================================================================\n",
      "lambda_5 (Lambda)            (None, 10, 1)             0         \n",
      "_________________________________________________________________\n",
      "lstm_5 (LSTM)                (None, 16)                1152      \n",
      "_________________________________________________________________\n",
      "dense_10 (Dense)             (None, 16)                272       \n",
      "_________________________________________________________________\n",
      "flatten_4 (Flatten)          (None, 16)                0         \n",
      "_________________________________________________________________\n",
      "dense_11 (Dense)             (None, 1)                 17        \n",
      "=================================================================\n",
      "Total params: 1,441\n",
      "Trainable params: 1,441\n",
      "Non-trainable params: 0\n",
      "_________________________________________________________________\n"
     ]
    }
   ],
   "source": [
    "model = Sequential([InputLayer(input_shape=(window_size, )),\n",
    "                    Lambda(lambda x: tf.expand_dims(x, axis=-1), input_shape=[None]),\n",
    "                    LSTM(16, return_sequences=False),\n",
    "                    Dense(16),                    \n",
    "                    Flatten(),\n",
    "                    #Dropout(.1),\n",
    "                    Dense(1)])\n",
    "model.compile(loss='mse', optimizer='adam', metrics=['mape'])\n",
    "model.summary()"
   ]
  },
  {
   "cell_type": "code",
   "execution_count": 30,
   "id": "91e3698a",
   "metadata": {},
   "outputs": [
    {
     "name": "stdout",
     "output_type": "stream",
     "text": [
      "Epoch 1/50\n",
      "31/31 [==============================] - 1s 3ms/step - loss: 0.3809 - mape: 118.8889\n",
      "Epoch 2/50\n",
      "31/31 [==============================] - 0s 3ms/step - loss: 0.1491 - mape: 181.7751\n",
      "Epoch 3/50\n",
      "31/31 [==============================] - 0s 3ms/step - loss: 0.1141 - mape: 158.3511\n",
      "Epoch 4/50\n",
      "31/31 [==============================] - 0s 3ms/step - loss: 0.0889 - mape: 143.3269\n",
      "Epoch 5/50\n",
      "31/31 [==============================] - 0s 3ms/step - loss: 0.0665 - mape: 124.9913\n",
      "Epoch 6/50\n",
      "31/31 [==============================] - 0s 3ms/step - loss: 0.0451 - mape: 102.7264\n",
      "Epoch 7/50\n",
      "31/31 [==============================] - 0s 3ms/step - loss: 0.0242 - mape: 73.5456\n",
      "Epoch 8/50\n",
      "31/31 [==============================] - 0s 3ms/step - loss: 0.0079 - mape: 38.5531\n",
      "Epoch 9/50\n",
      "31/31 [==============================] - 0s 3ms/step - loss: 0.0014 - mape: 11.9910\n",
      "Epoch 10/50\n",
      "31/31 [==============================] - 0s 3ms/step - loss: 5.5734e-04 - mape: 7.3666\n",
      "Epoch 11/50\n",
      "31/31 [==============================] - 0s 3ms/step - loss: 4.4041e-04 - mape: 6.1101\n",
      "Epoch 12/50\n",
      "31/31 [==============================] - 0s 3ms/step - loss: 3.8487e-04 - mape: 5.0668\n",
      "Epoch 13/50\n",
      "31/31 [==============================] - 0s 3ms/step - loss: 3.5390e-04 - mape: 4.4835\n",
      "Epoch 14/50\n",
      "31/31 [==============================] - 0s 3ms/step - loss: 3.3447e-04 - mape: 4.2609\n",
      "Epoch 15/50\n",
      "31/31 [==============================] - 0s 3ms/step - loss: 3.2001e-04 - mape: 4.1609\n",
      "Epoch 16/50\n",
      "31/31 [==============================] - 0s 3ms/step - loss: 3.0740e-04 - mape: 4.1232\n",
      "Epoch 17/50\n",
      "31/31 [==============================] - 0s 3ms/step - loss: 2.9573e-04 - mape: 4.0870\n",
      "Epoch 18/50\n",
      "31/31 [==============================] - 0s 3ms/step - loss: 2.8375e-04 - mape: 3.9733\n",
      "Epoch 19/50\n",
      "31/31 [==============================] - 0s 3ms/step - loss: 2.7224e-04 - mape: 3.9368\n",
      "Epoch 20/50\n",
      "31/31 [==============================] - 0s 3ms/step - loss: 2.6171e-04 - mape: 3.8669\n",
      "Epoch 21/50\n",
      "31/31 [==============================] - 0s 3ms/step - loss: 2.4928e-04 - mape: 3.8340\n",
      "Epoch 22/50\n",
      "31/31 [==============================] - 0s 3ms/step - loss: 2.3819e-04 - mape: 3.7234\n",
      "Epoch 23/50\n",
      "31/31 [==============================] - 0s 3ms/step - loss: 2.2710e-04 - mape: 3.5666\n",
      "Epoch 24/50\n",
      "31/31 [==============================] - 0s 3ms/step - loss: 2.1559e-04 - mape: 3.5694\n",
      "Epoch 25/50\n",
      "31/31 [==============================] - 0s 3ms/step - loss: 2.0489e-04 - mape: 3.4646\n",
      "Epoch 26/50\n",
      "31/31 [==============================] - 0s 3ms/step - loss: 1.9546e-04 - mape: 3.4616\n",
      "Epoch 27/50\n",
      "31/31 [==============================] - 0s 3ms/step - loss: 1.8299e-04 - mape: 3.3368\n",
      "Epoch 28/50\n",
      "31/31 [==============================] - 0s 3ms/step - loss: 1.7189e-04 - mape: 3.1833\n",
      "Epoch 29/50\n",
      "31/31 [==============================] - 0s 3ms/step - loss: 1.6110e-04 - mape: 3.0769\n",
      "Epoch 30/50\n",
      "31/31 [==============================] - 0s 3ms/step - loss: 1.5027e-04 - mape: 3.0379\n",
      "Epoch 31/50\n",
      "31/31 [==============================] - 0s 3ms/step - loss: 1.4033e-04 - mape: 2.9142\n",
      "Epoch 32/50\n",
      "31/31 [==============================] - 0s 3ms/step - loss: 1.3044e-04 - mape: 2.8746\n",
      "Epoch 33/50\n",
      "31/31 [==============================] - 0s 3ms/step - loss: 1.2108e-04 - mape: 2.7218\n",
      "Epoch 34/50\n",
      "31/31 [==============================] - 0s 3ms/step - loss: 1.1039e-04 - mape: 2.6137\n",
      "Epoch 35/50\n",
      "31/31 [==============================] - 0s 3ms/step - loss: 1.0081e-04 - mape: 2.4361\n",
      "Epoch 36/50\n",
      "31/31 [==============================] - 0s 3ms/step - loss: 9.1387e-05 - mape: 2.2792\n",
      "Epoch 37/50\n",
      "31/31 [==============================] - 0s 3ms/step - loss: 8.2718e-05 - mape: 2.1860\n",
      "Epoch 38/50\n",
      "31/31 [==============================] - 0s 3ms/step - loss: 7.5508e-05 - mape: 2.0965\n",
      "Epoch 39/50\n",
      "31/31 [==============================] - 0s 3ms/step - loss: 6.7651e-05 - mape: 1.9454\n",
      "Epoch 40/50\n",
      "31/31 [==============================] - 0s 3ms/step - loss: 6.0115e-05 - mape: 1.8213\n",
      "Epoch 41/50\n",
      "31/31 [==============================] - 0s 3ms/step - loss: 5.3394e-05 - mape: 1.6688\n",
      "Epoch 42/50\n",
      "31/31 [==============================] - 0s 3ms/step - loss: 4.7567e-05 - mape: 1.6018\n",
      "Epoch 43/50\n",
      "31/31 [==============================] - 0s 3ms/step - loss: 4.2304e-05 - mape: 1.4341\n",
      "Epoch 44/50\n",
      "31/31 [==============================] - 0s 3ms/step - loss: 3.6839e-05 - mape: 1.2949\n",
      "Epoch 45/50\n",
      "31/31 [==============================] - 0s 3ms/step - loss: 3.2292e-05 - mape: 1.2204\n",
      "Epoch 46/50\n",
      "31/31 [==============================] - 0s 3ms/step - loss: 2.8060e-05 - mape: 1.1214\n",
      "Epoch 47/50\n",
      "31/31 [==============================] - 0s 3ms/step - loss: 2.4703e-05 - mape: 1.0290\n",
      "Epoch 48/50\n",
      "31/31 [==============================] - 0s 3ms/step - loss: 2.1492e-05 - mape: 0.9254\n",
      "Epoch 49/50\n",
      "31/31 [==============================] - 0s 3ms/step - loss: 1.8799e-05 - mape: 0.8285\n",
      "Epoch 50/50\n",
      "31/31 [==============================] - 0s 3ms/step - loss: 1.6584e-05 - mape: 0.7788\n"
     ]
    },
    {
     "data": {
      "text/plain": [
       "<keras.callbacks.History at 0x2617c5105b0>"
      ]
     },
     "execution_count": 30,
     "metadata": {},
     "output_type": "execute_result"
    }
   ],
   "source": [
    "model.fit(y_train, epochs=50)"
   ]
  },
  {
   "cell_type": "code",
   "execution_count": 31,
   "id": "83085f2a",
   "metadata": {},
   "outputs": [
    {
     "name": "stdout",
     "output_type": "stream",
     "text": [
      "[[ 0.15425145  0.03462239 -0.08550663 -0.20440091 -0.32034356 -0.43166033\n",
      "  -0.53674377 -0.63407644 -0.72225281 -0.79999959]\n",
      " [ 0.03462239 -0.08550663 -0.20440091 -0.32034356 -0.43166033 -0.53674377\n",
      "  -0.63407644 -0.72225281 -0.79999959 -0.86619409]\n",
      " [-0.08550663 -0.20440091 -0.32034356 -0.43166033 -0.53674377 -0.63407644\n",
      "  -0.72225281 -0.79999959 -0.86619409 -0.91988043]\n",
      " [-0.20440091 -0.32034356 -0.43166033 -0.53674377 -0.63407644 -0.72225281\n",
      "  -0.79999959 -0.86619409 -0.91988043 -0.96028336]\n",
      " [-0.32034356 -0.43166033 -0.53674377 -0.63407644 -0.72225281 -0.79999959\n",
      "  -0.86619409 -0.91988043 -0.96028336 -0.98681945]\n",
      " [-0.43166033 -0.53674377 -0.63407644 -0.72225281 -0.79999959 -0.86619409\n",
      "  -0.91988043 -0.96028336 -0.98681945 -0.99910551]\n",
      " [-0.53674377 -0.63407644 -0.72225281 -0.79999959 -0.86619409 -0.91988043\n",
      "  -0.96028336 -0.98681945 -0.99910551 -0.99696413]\n",
      " [-0.63407644 -0.72225281 -0.79999959 -0.86619409 -0.91988043 -0.96028336\n",
      "  -0.98681945 -0.99910551 -0.99696413 -0.98042622]\n",
      " [-0.72225281 -0.79999959 -0.86619409 -0.91988043 -0.96028336 -0.98681945\n",
      "  -0.99910551 -0.99696413 -0.98042622 -0.9497306 ]\n",
      " [-0.79999959 -0.86619409 -0.91988043 -0.96028336 -0.98681945 -0.99910551\n",
      "  -0.99696413 -0.98042622 -0.9497306  -0.90532053]\n",
      " [-0.86619409 -0.91988043 -0.96028336 -0.98681945 -0.99910551 -0.99696413\n",
      "  -0.98042622 -0.9497306  -0.90532053 -0.8478373 ]\n",
      " [-0.91988043 -0.96028336 -0.98681945 -0.99910551 -0.99696413 -0.98042622\n",
      "  -0.9497306  -0.90532053 -0.8478373  -0.77811099]\n",
      " [-0.96028336 -0.98681945 -0.99910551 -0.99696413 -0.98042622 -0.9497306\n",
      "  -0.90532053 -0.8478373  -0.77811099 -0.69714848]\n",
      " [-0.98681945 -0.99910551 -0.99696413 -0.98042622 -0.9497306  -0.90532053\n",
      "  -0.8478373  -0.77811099 -0.69714848 -0.60611889]\n",
      " [-0.99910551 -0.99696413 -0.98042622 -0.9497306  -0.90532053 -0.8478373\n",
      "  -0.77811099 -0.69714848 -0.60611889 -0.50633673]\n",
      " [-0.99696413 -0.98042622 -0.9497306  -0.90532053 -0.8478373  -0.77811099\n",
      "  -0.69714848 -0.60611889 -0.50633673 -0.39924287]] -> [-0.86619409 -0.91988043 -0.96028336 -0.98681945 -0.99910551 -0.99696413\n",
      " -0.98042622 -0.9497306  -0.90532053 -0.8478373  -0.77811099 -0.69714848\n",
      " -0.60611889 -0.50633673 -0.39924287 -0.28638381]\n",
      "Epoch 1/90\n",
      "31/31 [==============================] - 2s 3ms/step - loss: 0.4205 - mape: 104.4032\n",
      "Epoch 2/90\n",
      "31/31 [==============================] - 0s 3ms/step - loss: 0.1439 - mape: 164.7473\n",
      "Epoch 3/90\n",
      "31/31 [==============================] - 0s 3ms/step - loss: 0.1061 - mape: 151.8469\n",
      "Epoch 4/90\n",
      "31/31 [==============================] - 0s 3ms/step - loss: 0.0827 - mape: 132.7774\n",
      "Epoch 5/90\n",
      "31/31 [==============================] - 0s 3ms/step - loss: 0.0640 - mape: 124.6668\n",
      "Epoch 6/90\n",
      "31/31 [==============================] - 0s 3ms/step - loss: 0.0401 - mape: 87.5121\n",
      "Epoch 7/90\n",
      "31/31 [==============================] - 0s 3ms/step - loss: 0.0198 - mape: 63.7336\n",
      "Epoch 8/90\n",
      "31/31 [==============================] - 0s 3ms/step - loss: 0.0068 - mape: 33.9467\n",
      "Epoch 9/90\n",
      "31/31 [==============================] - 0s 3ms/step - loss: 0.0019 - mape: 13.6867\n",
      "Epoch 10/90\n",
      "31/31 [==============================] - 0s 3ms/step - loss: 0.0013 - mape: 8.7123\n",
      "Epoch 11/90\n",
      "31/31 [==============================] - 0s 3ms/step - loss: 0.0012 - mape: 7.9844\n",
      "Epoch 12/90\n",
      "31/31 [==============================] - 0s 3ms/step - loss: 0.0011 - mape: 7.3309\n",
      "Epoch 13/90\n",
      "31/31 [==============================] - 0s 3ms/step - loss: 0.0010 - mape: 7.4541\n",
      "Epoch 14/90\n",
      "31/31 [==============================] - 0s 3ms/step - loss: 9.3337e-04 - mape: 6.4724\n",
      "Epoch 15/90\n",
      "31/31 [==============================] - 0s 3ms/step - loss: 8.6715e-04 - mape: 6.4939\n",
      "Epoch 16/90\n",
      "31/31 [==============================] - 0s 3ms/step - loss: 8.6715e-04 - mape: 6.3639\n",
      "Epoch 17/90\n",
      "31/31 [==============================] - 0s 3ms/step - loss: 7.6501e-04 - mape: 6.4263\n",
      "Epoch 18/90\n",
      "31/31 [==============================] - 0s 3ms/step - loss: 6.8756e-04 - mape: 5.7365\n",
      "Epoch 19/90\n",
      "31/31 [==============================] - 0s 3ms/step - loss: 6.5247e-04 - mape: 5.4810\n",
      "Epoch 20/90\n",
      "31/31 [==============================] - 0s 3ms/step - loss: 6.3589e-04 - mape: 5.6567\n",
      "Epoch 21/90\n",
      "31/31 [==============================] - 0s 3ms/step - loss: 5.8100e-04 - mape: 5.1495\n",
      "Epoch 22/90\n",
      "31/31 [==============================] - 0s 3ms/step - loss: 5.3760e-04 - mape: 5.6252\n",
      "Epoch 23/90\n",
      "31/31 [==============================] - 0s 3ms/step - loss: 5.3146e-04 - mape: 5.5489\n",
      "Epoch 24/90\n",
      "31/31 [==============================] - 0s 3ms/step - loss: 4.9400e-04 - mape: 5.2284\n",
      "Epoch 25/90\n",
      "31/31 [==============================] - 0s 3ms/step - loss: 4.4726e-04 - mape: 5.0749\n",
      "Epoch 26/90\n",
      "31/31 [==============================] - 0s 3ms/step - loss: 4.0179e-04 - mape: 4.8734\n",
      "Epoch 27/90\n",
      "31/31 [==============================] - 0s 3ms/step - loss: 4.0487e-04 - mape: 4.4851\n",
      "Epoch 28/90\n",
      "31/31 [==============================] - 0s 3ms/step - loss: 4.1129e-04 - mape: 5.1121\n",
      "Epoch 29/90\n",
      "31/31 [==============================] - 0s 3ms/step - loss: 3.4219e-04 - mape: 4.5733\n",
      "Epoch 30/90\n",
      "31/31 [==============================] - 0s 3ms/step - loss: 3.3208e-04 - mape: 3.9908\n",
      "Epoch 31/90\n",
      "31/31 [==============================] - 0s 3ms/step - loss: 3.1266e-04 - mape: 4.4454\n",
      "Epoch 32/90\n",
      "31/31 [==============================] - 0s 3ms/step - loss: 2.9334e-04 - mape: 4.5936\n",
      "Epoch 33/90\n",
      "31/31 [==============================] - 0s 3ms/step - loss: 2.7646e-04 - mape: 3.5695\n",
      "Epoch 34/90\n",
      "31/31 [==============================] - 0s 3ms/step - loss: 2.6542e-04 - mape: 3.9644\n",
      "Epoch 35/90\n",
      "31/31 [==============================] - 0s 3ms/step - loss: 2.3960e-04 - mape: 3.3698\n",
      "Epoch 36/90\n",
      "31/31 [==============================] - 0s 3ms/step - loss: 2.2980e-04 - mape: 3.7065\n",
      "Epoch 37/90\n",
      "31/31 [==============================] - 0s 3ms/step - loss: 2.7967e-04 - mape: 4.0807\n",
      "Epoch 38/90\n",
      "31/31 [==============================] - 0s 3ms/step - loss: 2.2572e-04 - mape: 4.0263\n",
      "Epoch 39/90\n",
      "31/31 [==============================] - 0s 3ms/step - loss: 2.1977e-04 - mape: 3.7562\n",
      "Epoch 40/90\n",
      "31/31 [==============================] - 0s 3ms/step - loss: 1.9397e-04 - mape: 3.3643\n",
      "Epoch 41/90\n",
      "31/31 [==============================] - 0s 3ms/step - loss: 1.7836e-04 - mape: 3.1751\n",
      "Epoch 42/90\n",
      "31/31 [==============================] - 0s 3ms/step - loss: 1.9227e-04 - mape: 3.6363\n",
      "Epoch 43/90\n",
      "31/31 [==============================] - 0s 3ms/step - loss: 1.5730e-04 - mape: 3.1037\n",
      "Epoch 44/90\n",
      "31/31 [==============================] - 0s 3ms/step - loss: 1.8372e-04 - mape: 3.7281\n",
      "Epoch 45/90\n",
      "31/31 [==============================] - 0s 3ms/step - loss: 1.3286e-04 - mape: 2.7286\n",
      "Epoch 46/90\n",
      "31/31 [==============================] - 0s 3ms/step - loss: 1.1889e-04 - mape: 2.6280\n",
      "Epoch 47/90\n",
      "31/31 [==============================] - 0s 3ms/step - loss: 1.0892e-04 - mape: 2.6839\n",
      "Epoch 48/90\n",
      "31/31 [==============================] - 0s 3ms/step - loss: 1.0254e-04 - mape: 2.2708\n",
      "Epoch 49/90\n",
      "31/31 [==============================] - 0s 3ms/step - loss: 1.0044e-04 - mape: 2.3537\n",
      "Epoch 50/90\n",
      "31/31 [==============================] - 0s 3ms/step - loss: 9.2331e-05 - mape: 2.1184\n",
      "Epoch 51/90\n",
      "31/31 [==============================] - 0s 3ms/step - loss: 8.8834e-05 - mape: 2.3047\n",
      "Epoch 52/90\n",
      "31/31 [==============================] - 0s 3ms/step - loss: 8.6875e-05 - mape: 2.2850\n",
      "Epoch 53/90\n",
      "31/31 [==============================] - 0s 3ms/step - loss: 7.4061e-05 - mape: 1.9863\n",
      "Epoch 54/90\n",
      "31/31 [==============================] - 0s 3ms/step - loss: 7.2868e-05 - mape: 1.9014\n",
      "Epoch 55/90\n",
      "31/31 [==============================] - 0s 3ms/step - loss: 6.4126e-05 - mape: 2.2062\n",
      "Epoch 56/90\n",
      "31/31 [==============================] - 0s 3ms/step - loss: 6.2425e-05 - mape: 2.0020\n",
      "Epoch 57/90\n",
      "31/31 [==============================] - 0s 3ms/step - loss: 5.5544e-05 - mape: 1.7119\n",
      "Epoch 58/90\n",
      "31/31 [==============================] - 0s 3ms/step - loss: 5.2565e-05 - mape: 1.9228\n",
      "Epoch 59/90\n",
      "31/31 [==============================] - 0s 3ms/step - loss: 4.3135e-05 - mape: 1.4406\n",
      "Epoch 60/90\n",
      "31/31 [==============================] - 0s 3ms/step - loss: 4.0684e-05 - mape: 1.4420\n",
      "Epoch 61/90\n",
      "31/31 [==============================] - 0s 3ms/step - loss: 3.8784e-05 - mape: 1.5791\n",
      "Epoch 62/90\n"
     ]
    },
    {
     "name": "stdout",
     "output_type": "stream",
     "text": [
      "31/31 [==============================] - 0s 3ms/step - loss: 3.6317e-05 - mape: 1.4008\n",
      "Epoch 63/90\n",
      "31/31 [==============================] - 0s 3ms/step - loss: 3.6733e-05 - mape: 1.4479\n",
      "Epoch 64/90\n",
      "31/31 [==============================] - 0s 3ms/step - loss: 2.8397e-05 - mape: 1.1489\n",
      "Epoch 65/90\n",
      "31/31 [==============================] - 0s 3ms/step - loss: 2.5040e-05 - mape: 1.0954\n",
      "Epoch 66/90\n",
      "31/31 [==============================] - 0s 3ms/step - loss: 2.3306e-05 - mape: 1.1011\n",
      "Epoch 67/90\n",
      "31/31 [==============================] - 0s 3ms/step - loss: 2.0310e-05 - mape: 1.0570\n",
      "Epoch 68/90\n",
      "31/31 [==============================] - 0s 3ms/step - loss: 1.8893e-05 - mape: 0.9603\n",
      "Epoch 69/90\n",
      "31/31 [==============================] - 0s 3ms/step - loss: 1.7290e-05 - mape: 0.9998\n",
      "Epoch 70/90\n",
      "31/31 [==============================] - 0s 3ms/step - loss: 1.5202e-05 - mape: 0.9000\n",
      "Epoch 71/90\n",
      "31/31 [==============================] - 0s 3ms/step - loss: 1.3692e-05 - mape: 0.7625\n",
      "Epoch 72/90\n",
      "31/31 [==============================] - 0s 3ms/step - loss: 1.2361e-05 - mape: 0.8418\n",
      "Epoch 73/90\n",
      "31/31 [==============================] - 0s 3ms/step - loss: 1.0830e-05 - mape: 0.7159\n",
      "Epoch 74/90\n",
      "31/31 [==============================] - 0s 3ms/step - loss: 1.0991e-05 - mape: 0.7296\n",
      "Epoch 75/90\n",
      "31/31 [==============================] - 0s 3ms/step - loss: 9.2985e-06 - mape: 0.6326\n",
      "Epoch 76/90\n",
      "31/31 [==============================] - 0s 3ms/step - loss: 9.5825e-06 - mape: 0.7358\n",
      "Epoch 77/90\n",
      "31/31 [==============================] - 0s 3ms/step - loss: 7.5939e-06 - mape: 0.5818\n",
      "Epoch 78/90\n",
      "31/31 [==============================] - 0s 3ms/step - loss: 7.3015e-06 - mape: 0.5602\n",
      "Epoch 79/90\n",
      "31/31 [==============================] - 0s 3ms/step - loss: 7.1318e-06 - mape: 0.5460\n",
      "Epoch 80/90\n",
      "31/31 [==============================] - 0s 3ms/step - loss: 6.4525e-06 - mape: 0.5642\n",
      "Epoch 81/90\n",
      "31/31 [==============================] - 0s 3ms/step - loss: 5.4020e-06 - mape: 0.4592\n",
      "Epoch 82/90\n",
      "31/31 [==============================] - 0s 3ms/step - loss: 5.2447e-06 - mape: 0.5177\n",
      "Epoch 83/90\n",
      "31/31 [==============================] - 0s 3ms/step - loss: 6.9663e-06 - mape: 0.7519\n",
      "Epoch 84/90\n",
      "31/31 [==============================] - 0s 3ms/step - loss: 4.8277e-06 - mape: 0.4789\n",
      "Epoch 85/90\n",
      "31/31 [==============================] - 0s 3ms/step - loss: 8.2615e-06 - mape: 0.7365\n",
      "Epoch 86/90\n",
      "31/31 [==============================] - 0s 3ms/step - loss: 6.5901e-06 - mape: 0.7234\n",
      "Epoch 87/90\n",
      "31/31 [==============================] - 0s 3ms/step - loss: 4.8402e-06 - mape: 0.4967\n",
      "Epoch 88/90\n",
      "31/31 [==============================] - 0s 3ms/step - loss: 4.8854e-06 - mape: 0.4885\n",
      "Epoch 89/90\n",
      "31/31 [==============================] - 0s 3ms/step - loss: 4.3821e-06 - mape: 0.4637\n",
      "Epoch 90/90\n",
      "31/31 [==============================] - 0s 3ms/step - loss: 3.7294e-06 - mape: 0.4576\n"
     ]
    },
    {
     "data": {
      "text/plain": [
       "<keras.callbacks.History at 0x26115c27a30>"
      ]
     },
     "execution_count": 31,
     "metadata": {},
     "output_type": "execute_result"
    }
   ],
   "source": [
    "from tensorflow.keras.preprocessing.sequence import TimeseriesGenerator\n",
    "y_train2 = TimeseriesGenerator(y, y, stride=1, length=10, batch_size=16)\n",
    "for i,j in y_train2:\n",
    "    print(i, '->', j)\n",
    "    break\n",
    "\n",
    "# model = Sequential([InputLayer(input_shape=(window_size, )),\n",
    "#                     Lambda(lambda x: tf.expand_dims(x, axis=-1), input_shape=[None]),\n",
    "#                     LSTM(16, return_sequences=False),\n",
    "#                     Dense(16),                    \n",
    "#                     Flatten(),\n",
    "#                     #Dropout(.1),\n",
    "#                     Dense(1)])\n",
    "# model.compile(loss='mse', optimizer='adam', metrics=['mape'])\n",
    "# model.summary()\n",
    "\n",
    "\n",
    "\n",
    "model = Sequential([InputLayer(input_shape=(window_size, )),\n",
    "                    Lambda(lambda x: tf.expand_dims(x, axis=-1), input_shape=[None]),\n",
    "                    LSTM(16, return_sequences=False),\n",
    "                    Dense(16),                    \n",
    "                    #Flatten(),\n",
    "                    #Dropout(.1),\n",
    "                    Dense(1)])\n",
    "model.compile(loss='mse', optimizer='adam', metrics=['mape'])\n",
    "model.fit(y_train2, epochs=90)"
   ]
  },
  {
   "cell_type": "code",
   "execution_count": 32,
   "id": "d88aa12d",
   "metadata": {},
   "outputs": [
    {
     "name": "stdout",
     "output_type": "stream",
     "text": [
      "[ 0.15425145  0.03462239 -0.08550663 -0.20440091 -0.32034356 -0.43166033\n",
      " -0.53674377 -0.63407644 -0.72225281 -0.79999959]\n",
      "-0.866194088230713\n"
     ]
    },
    {
     "name": "stderr",
     "output_type": "stream",
     "text": [
      "C:\\Users\\weiliu\\AppData\\Local\\Temp\\ipykernel_6536\\3526750938.py:7: UserWarning: Matplotlib is currently using module://matplotlib_inline.backend_inline, which is a non-GUI backend, so cannot show the figure.\n",
      "  fig.show()\n"
     ]
    },
    {
     "data": {
      "image/png": "[encoded data removed]",
      "text/plain": [
       "<Figure size 432x288 with 1 Axes>"
      ]
     },
     "metadata": {
      "needs_background": "light"
     },
     "output_type": "display_data"
    }
   ],
   "source": [
    "fig, ax = plt.subplots()\n",
    "for i, j in y_train:\n",
    "    print(i.numpy()[0])\n",
    "    print(j.numpy()[0])    \n",
    "    ax.plot(range(len(i.numpy()[0])), i.numpy()[0], marker='.')\n",
    "    ax.scatter([len(i.numpy()[0])], j.numpy()[0], marker='x')\n",
    "    fig.show()\n",
    "    break"
   ]
  },
  {
   "cell_type": "code",
   "execution_count": 33,
   "id": "c2afe491",
   "metadata": {},
   "outputs": [],
   "source": [
    "steps = 100\n",
    "predicts = list(y[:window_size])\n",
    "for i in range(steps):\n",
    "    current_window = predicts[-window_size:]\n",
    "    pred = model.predict(np.expand_dims(current_window, 0))[0][0]\n",
    "    predicts.append(pred)\n"
   ]
  },
  {
   "cell_type": "code",
   "execution_count": 34,
   "id": "93eaea79",
   "metadata": {},
   "outputs": [
    {
     "data": {
      "text/plain": [
       "(0.0, 120.0)"
      ]
     },
     "execution_count": 34,
     "metadata": {},
     "output_type": "execute_result"
    },
    {
     "data": {
      "image/png": "[encoded data removed]",
      "text/plain": [
       "<Figure size 720x864 with 1 Axes>"
      ]
     },
     "metadata": {
      "needs_background": "light"
     },
     "output_type": "display_data"
    }
   ],
   "source": [
    "fig, ax = plt.subplots(figsize=(10, 12))\n",
    "plt.plot(range(len(y)), y, marker='.')\n",
    "plt.plot(range(len(predicts)), predicts, marker='+')\n",
    "ax.set_xlim(0, 120)\n"
   ]
  },
  {
   "cell_type": "code",
   "execution_count": 35,
   "id": "6d5831b9",
   "metadata": {},
   "outputs": [
    {
     "data": {
      "text/plain": [
       "(16, 10)"
      ]
     },
     "execution_count": 35,
     "metadata": {},
     "output_type": "execute_result"
    }
   ],
   "source": [
    "y_train2[0][0].shape"
   ]
  },
  {
   "cell_type": "code",
   "execution_count": 36,
   "id": "8c732005",
   "metadata": {},
   "outputs": [
    {
     "data": {
      "text/plain": [
       "500"
      ]
     },
     "execution_count": 36,
     "metadata": {},
     "output_type": "execute_result"
    }
   ],
   "source": [
    "len(y)"
   ]
  },
  {
   "cell_type": "code",
   "execution_count": 40,
   "id": "4565fd00",
   "metadata": {},
   "outputs": [
    {
     "name": "stdout",
     "output_type": "stream",
     "text": [
      "we will predict 100 steps into future\n"
     ]
    }
   ],
   "source": [
    "def predict_into_future(model, first_batch_seed, predict_future_steps, time_steps, n_features):\n",
    "    \"\"\"\n",
    "    model: model\n",
    "    first_batch_seed: in general, this is the last batch of the training dataset\n",
    "    predict_future_steps: how many steps we are predicting to the future, in general, this should be len(test_data)\n",
    "    time_steps: How many LSTM cells\n",
    "    n_features: Input shape for a single LSTM cell\n",
    "    for example: LSTM(16, input_shape=(time_steps, n_features))\n",
    "    \n",
    "    \"\"\"\n",
    "    import numpy as np\n",
    "    current_batch = first_batch_seed.reshape((1, time_steps, n_features))  # LSTM(16, input_shape=(time_steps, n_features))\n",
    "    predictions = []\n",
    "    print(f'we will predict {predict_future_steps} steps into future')\n",
    "    for i in range(predict_future_steps):\n",
    "        #print(f\"step: {i}\")\n",
    "        current_pred = model.predict(current_batch)[0]\n",
    "        predictions.append(current_pred)\n",
    "        current_batch = np.append(current_batch[:, 1:, :], [[current_pred]], axis=1)\n",
    "    return predictions\n",
    "    \n",
    "\n",
    "test_predition2 = predict_into_future(model, \n",
    "                                      first_batch_seed=y[:window_size],\n",
    "                                      predict_future_steps=100, \n",
    "                                      time_steps=window_size, \n",
    "                                      n_features=1)"
   ]
  },
  {
   "cell_type": "code",
   "execution_count": 41,
   "id": "e50b2c53",
   "metadata": {},
   "outputs": [
    {
     "data": {
      "text/plain": [
       "[array([-0.8660573], dtype=float32),\n",
       " array([-0.9190086], dtype=float32),\n",
       " array([-0.9583215], dtype=float32),\n",
       " array([-0.98346955], dtype=float32),\n",
       " array([-0.9942094], dtype=float32),\n",
       " array([-0.9905583], dtype=float32),\n",
       " array([-0.97273654], dtype=float32),\n",
       " array([-0.9411074], dtype=float32),\n",
       " array([-0.8961294], dtype=float32),\n",
       " array([-0.8383427], dtype=float32),\n",
       " array([-0.768393], dtype=float32),\n",
       " array([-0.68708026], dtype=float32),\n",
       " array([-0.5954075], dtype=float32),\n",
       " array([-0.49466708], dtype=float32),\n",
       " array([-0.38644177], dtype=float32),\n",
       " array([-0.27255335], dtype=float32),\n",
       " array([-0.15495153], dtype=float32),\n",
       " array([-0.03557232], dtype=float32),\n",
       " array([0.08378074], dtype=float32),\n",
       " array([0.20149459], dtype=float32),\n",
       " array([0.3161312], dtype=float32),\n",
       " array([0.42635912], dtype=float32),\n",
       " array([0.5308685], dtype=float32),\n",
       " array([0.62830555], dtype=float32),\n",
       " array([0.71724564], dtype=float32),\n",
       " array([0.79621756], dtype=float32),\n",
       " array([0.8637729], dtype=float32),\n",
       " array([0.9185853], dtype=float32),\n",
       " array([0.9595569], dtype=float32),\n",
       " array([0.98590624], dtype=float32),\n",
       " array([0.99721956], dtype=float32),\n",
       " array([0.9934532], dtype=float32),\n",
       " array([0.9748952], dtype=float32),\n",
       " array([0.942097], dtype=float32),\n",
       " array([0.8957995], dtype=float32),\n",
       " array([0.83686775], dtype=float32),\n",
       " array([0.7662451], dtype=float32),\n",
       " array([0.68493235], dtype=float32),\n",
       " array([0.5939895], dtype=float32),\n",
       " array([0.49455464], dtype=float32),\n",
       " array([0.38787076], dtype=float32),\n",
       " array([0.27531257], dtype=float32),\n",
       " array([0.15839995], dtype=float32),\n",
       " array([0.03879082], dtype=float32),\n",
       " array([-0.08175126], dtype=float32),\n",
       " array([-0.20140852], dtype=float32),\n",
       " array([-0.31836683], dtype=float32),\n",
       " array([-0.43086353], dtype=float32),\n",
       " array([-0.5372153], dtype=float32),\n",
       " array([-0.63582724], dtype=float32),\n",
       " array([-0.72519773], dtype=float32),\n",
       " array([-0.80393195], dtype=float32),\n",
       " array([-0.87077564], dtype=float32),\n",
       " array([-0.9246656], dtype=float32),\n",
       " array([-0.9647851], dtype=float32),\n",
       " array([-0.9906039], dtype=float32),\n",
       " array([-1.0018859], dtype=float32),\n",
       " array([-0.99865854], dtype=float32),\n",
       " array([-0.9811566], dtype=float32),\n",
       " array([-0.9497557], dtype=float32),\n",
       " array([-0.9049221], dtype=float32),\n",
       " array([-0.84719473], dtype=float32),\n",
       " array([-0.77720636], dtype=float32),\n",
       " array([-0.69573873], dtype=float32),\n",
       " array([-0.6037932], dtype=float32),\n",
       " array([-0.50265265], dtype=float32),\n",
       " array([-0.39389652], dtype=float32),\n",
       " array([-0.27935523], dtype=float32),\n",
       " array([-0.16099656], dtype=float32),\n",
       " array([-0.04078244], dtype=float32),\n",
       " array([0.07945646], dtype=float32),\n",
       " array([0.19808368], dtype=float32),\n",
       " array([0.31364396], dtype=float32),\n",
       " array([0.42479464], dtype=float32),\n",
       " array([0.530218], dtype=float32),\n",
       " array([0.62855196], dtype=float32),\n",
       " array([0.7183609], dtype=float32),\n",
       " array([0.79815996], dtype=float32),\n",
       " array([0.86648303], dtype=float32),\n",
       " array([0.9219853], dtype=float32),\n",
       " array([0.9635517], dtype=float32),\n",
       " array([0.9903874], dtype=float32),\n",
       " array([1.0020708], dtype=float32),\n",
       " array([0.99855655], dtype=float32),\n",
       " array([0.98013574], dtype=float32),\n",
       " array([0.94736713], dtype=float32),\n",
       " array([0.90100026], dtype=float32),\n",
       " array([0.841909], dtype=float32),\n",
       " array([0.77104396], dtype=float32),\n",
       " array([0.68941194], dtype=float32),\n",
       " array([0.5980771], dtype=float32),\n",
       " array([0.49818078], dtype=float32),\n",
       " array([0.39096925], dtype=float32),\n",
       " array([0.27782196], dtype=float32),\n",
       " array([0.1602658], dtype=float32),\n",
       " array([0.0399689], dtype=float32),\n",
       " array([-0.08129178], dtype=float32),\n",
       " array([-0.20168296], dtype=float32),\n",
       " array([-0.31937408], dtype=float32),\n",
       " array([-0.43258646], dtype=float32)]"
      ]
     },
     "execution_count": 41,
     "metadata": {},
     "output_type": "execute_result"
    }
   ],
   "source": [
    "test_predition2"
   ]
  },
  {
   "cell_type": "code",
   "execution_count": 45,
   "id": "973f97df",
   "metadata": {},
   "outputs": [
    {
     "data": {
      "text/plain": [
       "(0.0, 120.0)"
      ]
     },
     "execution_count": 45,
     "metadata": {},
     "output_type": "execute_result"
    },
    {
     "data": {
      "image/png": "[encoded data removed]",
      "text/plain": [
       "<Figure size 720x864 with 1 Axes>"
      ]
     },
     "metadata": {
      "needs_background": "light"
     },
     "output_type": "display_data"
    }
   ],
   "source": [
    "fig, ax = plt.subplots(figsize=(10, 12))\n",
    "plt.plot(range(len(y)), y, marker='.')\n",
    "plt.plot(range(window_size, len(test_predition2)+window_size), test_predition2, marker='+')\n",
    "ax.set_xlim(0, 120)\n"
   ]
  }
 ],
 "metadata": {
  "kernelspec": {
   "display_name": "Python 3 (ipykernel)",
   "language": "python",
   "name": "python3"
  },
  "language_info": {
   "codemirror_mode": {
    "name": "ipython",
    "version": 3
   },
   "file_extension": ".py",
   "mimetype": "text/x-python",
   "name": "python",
   "nbconvert_exporter": "python",
   "pygments_lexer": "ipython3",
   "version": "3.9.12"
  }
 },
 "nbformat": 4,
 "nbformat_minor": 5
}
