{
 "cells": [
  {
   "cell_type": "markdown",
   "metadata": {},
   "source": [
    "#### Time series forecasting with random forest\n",
    "\n",
    "https://www.statworx.com/at/blog/time-series-forecasting-with-random-forest/\n",
    "\n",
    "\n",
    "#### Introduction to Taken's Embedding\n",
    "\n",
    "https://www.kaggle.com/tigurius/introduction-to-taken-s-embedding/notebook\n",
    "\n",
    "\n",
    "#### Box-Cox Transformation\n",
    "\n",
    "https://www.statisticshowto.com/box-cox-transformation/"
   ]
  },
  {
   "cell_type": "code",
   "execution_count": null,
   "metadata": {},
   "outputs": [],
   "source": []
  }
 ],
 "metadata": {
  "kernelspec": {
   "display_name": "Python 3",
   "language": "python",
   "name": "python3"
  },
  "language_info": {
   "codemirror_mode": {
    "name": "ipython",
    "version": 3
   },
   "file_extension": ".py",
   "mimetype": "text/x-python",
   "name": "python",
   "nbconvert_exporter": "python",
   "pygments_lexer": "ipython3",
   "version": "3.7.1"
  }
 },
 "nbformat": 4,
 "nbformat_minor": 2
}
