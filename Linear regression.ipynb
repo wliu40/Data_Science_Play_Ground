{
 "cells": [
  {
   "cell_type": "markdown",
   "metadata": {},
   "source": [
    "## Linear regression\n"
   ]
  },
  {
   "cell_type": "markdown",
   "metadata": {},
   "source": [
    "#### R-squared\n",
    "\n",
    "#### adjust R-squared\n",
    "\n",
    "#### prediccted R-squared\n",
    "\n",
    "#### F-value\n",
    "\n",
    "#### P-value\n",
    "\n",
    "#### P-value for each coeff"
   ]
  },
  {
   "cell_type": "markdown",
   "metadata": {},
   "source": [
    "The F-test of overall significance indicates whether your linear regression model provides a better fit to the data than a model that contains no independent variables. \n",
    "\n",
    "The F-test for overall significance has the following two hypotheses:\n",
    "\n",
    "The null hypothesis states that the model with no independent variables fits the data as well as your model.\n",
    "The alternative hypothesis says that your model fits the data better than the intercept-only model."
   ]
  },
  {
   "cell_type": "markdown",
   "metadata": {},
   "source": [
    "about adjust r-squared\n",
    "https://statisticsbyjim.com/regression/interpret-adjusted-r-squared-predicted-r-squared-regression/"
   ]
  },
  {
   "cell_type": "markdown",
   "metadata": {},
   "source": [
    "Robust linear regression\n",
    "\n",
    "https://machinelearningmastery.com/robust-regression-for-machine-learning-in-python/"
   ]
  },
  {
   "cell_type": "code",
   "execution_count": null,
   "metadata": {},
   "outputs": [],
   "source": []
  }
 ],
 "metadata": {
  "kernelspec": {
   "display_name": "Python 3",
   "language": "python",
   "name": "python3"
  },
  "language_info": {
   "codemirror_mode": {
    "name": "ipython",
    "version": 3
   },
   "file_extension": ".py",
   "mimetype": "text/x-python",
   "name": "python",
   "nbconvert_exporter": "python",
   "pygments_lexer": "ipython3",
   "version": "3.7.1"
  }
 },
 "nbformat": 4,
 "nbformat_minor": 2
}
