{
 "cells": [
  {
   "cell_type": "markdown",
   "metadata": {},
   "source": [
    "## Hypothesis Testing\n"
   ]
  },
  {
   "cell_type": "markdown",
   "metadata": {},
   "source": [
    "\n",
    "## t-test and z-test\n",
    "They are both hypothesis testing to see if two sample (from same porpulation) has the same mean. or the porpulation has the mean with same specific values.\n",
    "\n",
    "#### when to use which?\n",
    "when the sample size is big( > 50), you can use either one. When the sample size is small (< 50), if the porpulation's variance known, use z-test, otherwise, use t-test\n",
    "\n",
    "__one-sample t-test/z-test__, we try to examine if the porpulation mean == some value?\n",
    "\n",
    "__two-sample t-test/z-test__, we try to examine if two sub-category(or sub-class) has the same mean (based on sampling data)?\n",
    "\n",
    "\n",
    "####  z-score formula\n",
    "\n",
    "$z = \\frac{\\overline{x}-\\mu_{0}}{\\sigma/\\sqrt n}$\n",
    "\n",
    "All you do is put in the values you are given into the formula. Your question should give you the sample mean (x̄), the standard deviation (σ), and the number of items in the sample (n). Your hypothesized mean (in other words, the mean you are testing the hypothesis for, or your null hypothesis) is μ0."
   ]
  },
  {
   "cell_type": "markdown",
   "metadata": {},
   "source": [
    "### chi-square test\n"
   ]
  },
  {
   "cell_type": "markdown",
   "metadata": {},
   "source": [
    "chi-squared test example: https://www.jianshu.com/p/807b2c2bfd9b\n",
    "chi-squared example: https://soc.utah.edu/sociology3112/chi-square.php\n",
    "\n",
    "The __null hypothesis__ states that there is no relationship between the two variables, while the __alternative hypothesis__ states that there is a relationship between the two variables. \n",
    "The test statistic follows a chi-square distribution, and the conclusion depends on whether or not our obtained statistic is greater that the critical statistic at our chosen __alpha level__.\n"
   ]
  },
  {
   "cell_type": "markdown",
   "metadata": {},
   "source": [
    "#### key points of chi-square test\n",
    "- The chi-square distribution is actually a series of distributions that vary in shape according to their degrees of freedom.\n",
    "- The chi-square test is a hypothesis test designed to test for a statistically significant relationship between nominal and ordinal variables organized in a bivariate table. In other words, it tells us whether two variables are independent of one another.\n",
    "- The obtained chi-square statistic essentially summarizes the difference between the frequencies actually observed in a bivariate table and the frequencies we would expect to see if there were no relationship between the two variables.\n",
    "- The chi-square test is sensitive to sample size.\n",
    "- The chi-square test cannot establish a causal relationship between two variables."
   ]
  },
  {
   "cell_type": "markdown",
   "metadata": {},
   "source": [
    "### ANOVA\n",
    "\n",
    "__An__alysis  __of__ __Va__riance"
   ]
  },
  {
   "cell_type": "markdown",
   "metadata": {},
   "source": [
    "ANOVA with examples: https://www.reneshbedre.com/blog/anova.html\n",
    "\n",
    "ANOVA for feature selection: https://towardsdatascience.com/anova-for-feature-selection-in-machine-learning-d9305e228476"
   ]
  },
  {
   "cell_type": "markdown",
   "metadata": {},
   "source": [
    "__One Way ANOVA with example__\n",
    "\n",
    "One Way ANOVA tests the relationship between categorical predictor vs continuous response.\n",
    "Here we will check whether there is equal variance between groups of categorical feature wrt continuous response.\n",
    "If there is equal variance between groups, it means this feature has no impact on response and it can not be considered for model training."
   ]
  },
  {
   "cell_type": "code",
   "execution_count": null,
   "metadata": {},
   "outputs": [],
   "source": []
  }
 ],
 "metadata": {
  "kernelspec": {
   "display_name": "Python 3",
   "language": "python",
   "name": "python3"
  },
  "language_info": {
   "codemirror_mode": {
    "name": "ipython",
    "version": 3
   },
   "file_extension": ".py",
   "mimetype": "text/x-python",
   "name": "python",
   "nbconvert_exporter": "python",
   "pygments_lexer": "ipython3",
   "version": "3.7.1"
  }
 },
 "nbformat": 4,
 "nbformat_minor": 2
}
