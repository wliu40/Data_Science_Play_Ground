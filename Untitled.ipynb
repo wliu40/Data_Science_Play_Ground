{
 "cells": [
  {
   "cell_type": "markdown",
   "id": "afc0b9dc",
   "metadata": {},
   "source": [
    "Email 1:\n",
    "\n",
    "Subject A: Are you leaving money on the table?\n",
    "\n",
    "Subject B: Don’t miss an opportunity to make more money.\n",
    "\n",
    " \n",
    "\n",
    "Email 2:\n",
    "\n",
    "Subject A: One powerful tool is all you really need.\n",
    "\n",
    "Subject B: Use the load board that gets you ahead."
   ]
  },
  {
   "cell_type": "code",
   "execution_count": 1,
   "id": "a95cbd12",
   "metadata": {},
   "outputs": [],
   "source": [
    "import pandas as pd\n",
    "import os"
   ]
  },
  {
   "cell_type": "code",
   "execution_count": 27,
   "id": "ba78307f",
   "metadata": {},
   "outputs": [
    {
     "name": "stderr",
     "output_type": "stream",
     "text": [
      "C:\\Users\\weiliu\\AppData\\Local\\Temp\\ipykernel_4656\\1826639169.py:1: DtypeWarning: Columns (5) have mixed types. Specify dtype option on import or set low_memory=False.\n",
      "  df = pd.read_csv('C:/Users/weiliu/Downloads/SMC_Emails_Data_ETL_V2 (1).csv')\n"
     ]
    },
    {
     "data": {
      "text/plain": [
       "Index(['SubscriberKey', 'EmailName', 'EmailSubject', 'SentDate', 'OpenDate',\n",
       "       'ClickDate', 'Email', 'BatchID', 'Journey'],\n",
       "      dtype='object')"
      ]
     },
     "execution_count": 27,
     "metadata": {},
     "output_type": "execute_result"
    }
   ],
   "source": [
    "df = pd.read_csv('C:/Users/weiliu/Downloads/SMC_Emails_Data_ETL_V2 (1).csv')\n",
    "\n",
    "df.columns\n"
   ]
  },
  {
   "cell_type": "code",
   "execution_count": 28,
   "id": "e912f75c",
   "metadata": {},
   "outputs": [
    {
     "data": {
      "text/plain": [
       "?? You’re invited. How to outsmart inflation in 2023. ??                                                                                                                                                    428171\n",
       "?? The dirty word you can’t ignore: INFLATION ??                                                                                                                                                            413646\n",
       "?? The 5 “whys” of inflation every trucker should know. ??                                                                                                                                                  411128\n",
       "\"%%[var @FirstName set @FirstName = [FirstName]]%%%%[If Not Empty(@FirstName) Then]%%%%=Propercase(@FirstName)=%%                                                                                           343285\n",
       "%%[var @FirstName set @FirstName = [FirstName]]%%%%[If Not Empty(@FirstName) Then]%%%%=Propercase(@FirstName)=%%, don't%%[Else]%%Don't%%[EndIf]%% miss out on these loads!                                  323108\n",
       "                                                                                                                                                                                                             ...  \n",
       "PROOF:[Important Update] West Virginia State Tax Regulation Compliance Requirements                                                                                                                              1\n",
       "PROOF:Save time. Streamline your shipping.                                                                                                                                                                       1\n",
       "PROOF:Amp up your broker business.                                                                                                                                                                               1\n",
       "PROOF:The one load board you shouldn’t be without.                                                                                                                                                               1\n",
       "Email2: Do you have what it takes?                                                                                                                                                                               1\n",
       "Name: EmailSubject, Length: 909, dtype: int64"
      ]
     },
     "execution_count": 28,
     "metadata": {},
     "output_type": "execute_result"
    }
   ],
   "source": [
    "df.EmailSubject.value_counts()"
   ]
  },
  {
   "cell_type": "code",
   "execution_count": 17,
   "id": "befa045a",
   "metadata": {},
   "outputs": [
    {
     "name": "stdout",
     "output_type": "stream",
     "text": [
      "Are you leaving money on the table?                                                                                                                                                                     \n",
      "Are you leaving money on the table?\n",
      "Don't miss an opportunity to make more money.\n",
      "One powerful tool is all you really need.\n",
      "Use the load board that gets you ahead.\n"
     ]
    }
   ],
   "source": [
    "for i in df.EmailSubject.unique():\n",
    "    if type(i) != str:\n",
    "        continue\n",
    "\n",
    "    if 'Are you leaving money on the table' in i:\n",
    "        print(i)\n",
    "        \n",
    "    if 'opportunity to make' in i:\n",
    "        print(i)\n",
    "        \n",
    "    if 'One powerful tool is all you really need' in i:\n",
    "        print(i)\n",
    "        \n",
    "    if 'Use the load board that gets you ahea' in i:\n",
    "        print(i)\n",
    "  \n",
    "        "
   ]
  },
  {
   "cell_type": "code",
   "execution_count": 19,
   "id": "1900f9d1",
   "metadata": {},
   "outputs": [],
   "source": [
    "subjects = [\"Are you leaving money on the table?\",\n",
    "            \"Don't miss an opportunity to make more money.\",\n",
    "            \"One powerful tool is all you really need.\",\n",
    "            \"Use the load board that gets you ahead.\"]\n",
    "df['EmailSubject'] = df.EmailSubject.astype(str).apply(lambda x: x.strip())\n",
    "\n"
   ]
  },
  {
   "cell_type": "code",
   "execution_count": 21,
   "id": "41943341",
   "metadata": {},
   "outputs": [
    {
     "data": {
      "text/plain": [
       "(795, (10354964, 9))"
      ]
     },
     "execution_count": 21,
     "metadata": {},
     "output_type": "execute_result"
    }
   ],
   "source": [
    "df.EmailSubject.nunique(), df.shape"
   ]
  },
  {
   "cell_type": "code",
   "execution_count": 22,
   "id": "2bda8045",
   "metadata": {},
   "outputs": [],
   "source": [
    "sub_df = df.loc[df.EmailSubject.isin(subjects)]"
   ]
  },
  {
   "cell_type": "code",
   "execution_count": 23,
   "id": "d44a7f60",
   "metadata": {},
   "outputs": [
    {
     "data": {
      "text/plain": [
       "(30325, 9)"
      ]
     },
     "execution_count": 23,
     "metadata": {},
     "output_type": "execute_result"
    }
   ],
   "source": [
    "sub_df.shape"
   ]
  },
  {
   "cell_type": "code",
   "execution_count": 24,
   "id": "e55bb61e",
   "metadata": {},
   "outputs": [
    {
     "data": {
      "text/plain": [
       "Are you leaving money on the table?              19704\n",
       "Don't miss an opportunity to make more money.     3568\n",
       "Use the load board that gets you ahead.           3528\n",
       "One powerful tool is all you really need.         3525\n",
       "Name: EmailSubject, dtype: int64"
      ]
     },
     "execution_count": 24,
     "metadata": {},
     "output_type": "execute_result"
    }
   ],
   "source": [
    "sub_df.EmailSubject.value_counts()"
   ]
  },
  {
   "cell_type": "code",
   "execution_count": 25,
   "id": "afd81dec",
   "metadata": {},
   "outputs": [],
   "source": [
    "df.loc[~df.EmailSubject.isin(subjects), 'EmailSubject'] = 'others'\n"
   ]
  },
  {
   "cell_type": "code",
   "execution_count": 26,
   "id": "b36665be",
   "metadata": {},
   "outputs": [
    {
     "data": {
      "text/plain": [
       "others                                           10324639\n",
       "Are you leaving money on the table?                 19704\n",
       "Don't miss an opportunity to make more money.        3568\n",
       "Use the load board that gets you ahead.              3528\n",
       "One powerful tool is all you really need.            3525\n",
       "Name: EmailSubject, dtype: int64"
      ]
     },
     "execution_count": 26,
     "metadata": {},
     "output_type": "execute_result"
    }
   ],
   "source": [
    "df.EmailSubject.value_counts()"
   ]
  },
  {
   "cell_type": "code",
   "execution_count": null,
   "id": "736c2efc",
   "metadata": {},
   "outputs": [],
   "source": [
    "df = pd.read_csv('C:/Users/weiliu/work/churn-model-evaluation-cronjob/parameters/marketing_cloud.csv')\n",
    "df"
   ]
  },
  {
   "cell_type": "code",
   "execution_count": null,
   "id": "b15c15e5",
   "metadata": {},
   "outputs": [],
   "source": [
    "def clean_up_subjects(df, target_subjects):\n",
    "    df['EmailSubject'] = df.EmailSubject.astype(str).apply(lambda x: x.strip())\n",
    "    df.loc[~df.EmailSubject.isin(target_subjects), 'EmailSubject'] = 'others'\n",
    "    return df"
   ]
  }
 ],
 "metadata": {
  "kernelspec": {
   "display_name": "Python 3 (ipykernel)",
   "language": "python",
   "name": "python3"
  },
  "language_info": {
   "codemirror_mode": {
    "name": "ipython",
    "version": 3
   },
   "file_extension": ".py",
   "mimetype": "text/x-python",
   "name": "python",
   "nbconvert_exporter": "python",
   "pygments_lexer": "ipython3",
   "version": "3.9.7"
  }
 },
 "nbformat": 4,
 "nbformat_minor": 5
}
