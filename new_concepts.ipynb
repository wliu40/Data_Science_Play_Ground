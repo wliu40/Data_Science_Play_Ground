{
 "cells": [
  {
   "cell_type": "code",
   "execution_count": 1,
   "metadata": {},
   "outputs": [],
   "source": []
  },
  {
   "cell_type": "code",
   "execution_count": null,
   "metadata": {},
   "outputs": [],
   "source": []
  },
  {
   "cell_type": "markdown",
   "metadata": {},
   "source": [
    "\n"
   ]
  },
  {
   "cell_type": "markdown",
   "metadata": {},
   "source": [
    "### $R^{2}$\n",
    "in satistics, the coefficient of determination, denoted R2 or r2 and pronounced \"R squared\", is the proportion of the variation in the dependent variable that is predictable from the independent variable(s).\n",
    "\n",
    "The sum of squares of residuals,  $SS_{res}$\n",
    "\n",
    "The total sum of squares (proportional to the variance of the data): $SS_{tot}$\n",
    "\n",
    "$R^{2} = 1 - SS_{res}/SS_{tot}$\n",
    "\n",
    "\n",
    "\n"
   ]
  },
  {
   "cell_type": "markdown",
   "metadata": {},
   "source": [
    "$\\mathbf{\\text{Gradient Tree Boosting Algorithm}}$<br>\n",
    "***\n",
    "1.&emsp;Initialize model with a constant value $$f_{0}(x) = \\textrm{arg min}_{\\gamma} \\sum \\limits _{i=1} ^{N} L(y_{i}, \\gamma)$$\n",
    "2.&emsp;For m = 1 to M:<br>\n",
    "&emsp;&emsp;(a)&emsp;For $i = 1,2,...,N$ compute<br>\n",
    "    $$r_{im} = - \\displaystyle \\Bigg[\\frac{\\partial L(y_{i}, f(x_{i}))}{\\partial f(x_{i})}\\Bigg]_{f=f_{m−1}}$$\n",
    "&emsp;&emsp;(b)&emsp;Fit a regression tree to the targets $r_{im}$ giving terminal regions<br>\n",
    "&emsp;&emsp;&emsp;&emsp;$R_{jm}, j = 1, 2, . . . , J_{m}.$<br><br>\n",
    "&emsp;&emsp;(c)&emsp;For $j = 1, 2, . . . , J_{m}$ compute<br>\n",
    "$$\\gamma_{jm} = \\underset{\\gamma}{\\textrm{arg min}} \\sum \\limits _{x_{i} \\in R_{jm}} L(y_{i}, f_{m−1}(x_{i}) + \\gamma)$$\n",
    "<br>\n",
    "&emsp;&emsp;(d)&emsp;Update $f_{m}(x) = f_{m−1}(x) + \\sum _{j=1} ^{J_{m}} \\gamma_{jm} I(x \\in R_{jm})$<br><br>\n",
    "3. Output $\\hat{f}(x) = f_{M}(x)$"
   ]
  },
  {
   "cell_type": "markdown",
   "metadata": {},
   "source": [
    "## some new stuff\n",
    "\n",
    "#### UMAP Uniform Manifold Approximation and Projection for Dimension Reduction\n",
    "\n",
    "https://www.youtube.com/watch?v=nq6iPZVUxZU\n",
    "\n",
    "\n",
    "#### Manifold Learning and Dimensionality Reduction for Data Visualization\n",
    "\n",
    "https://www.youtube.com/watch?v=j8080l9Pvic\n",
    "\n",
    "\n",
    "#### HDBSCAN, Fast Density Based Clustering, the How and the Why \n",
    "\n",
    "https://www.youtube.com/watch?v=dGsxd67IFiU"
   ]
  },
  {
   "cell_type": "code",
   "execution_count": null,
   "metadata": {},
   "outputs": [],
   "source": []
  }
 ],
 "metadata": {
  "kernelspec": {
   "display_name": "Python 3",
   "language": "python",
   "name": "python3"
  },
  "language_info": {
   "codemirror_mode": {
    "name": "ipython",
    "version": 3
   },
   "file_extension": ".py",
   "mimetype": "text/x-python",
   "name": "python",
   "nbconvert_exporter": "python",
   "pygments_lexer": "ipython3",
   "version": "3.7.1"
  }
 },
 "nbformat": 4,
 "nbformat_minor": 2
}
