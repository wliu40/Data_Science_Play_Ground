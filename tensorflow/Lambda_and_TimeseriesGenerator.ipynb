{
 "cells": [
  {
   "cell_type": "code",
   "execution_count": 2,
   "id": "55462d40",
   "metadata": {},
   "outputs": [],
   "source": [
    "from tensorflow.keras.preprocessing.sequence import TimeseriesGenerator\n",
    "from tensorflow.keras import Sequential\n",
    "from tensorflow.keras.layers import SimpleRNN, Dense, LSTM, Lambda, Flatten, InputLayer\n",
    "import tensorflow as tf"
   ]
  },
  {
   "cell_type": "code",
   "execution_count": 13,
   "id": "6c486d11",
   "metadata": {},
   "outputs": [],
   "source": [
    "train = range(100)\n",
    "# How many record to take into account\n",
    "length = 10\n",
    "batch_size = 3\n",
    "\n",
    "# 1 beacause it's univariate\n",
    "generator = TimeseriesGenerator(train, train, stride=1, length=length, batch_size=batch_size)"
   ]
  },
  {
   "cell_type": "code",
   "execution_count": 14,
   "id": "2cbfd696",
   "metadata": {},
   "outputs": [
    {
     "data": {
      "text/plain": [
       "<keras.preprocessing.sequence.TimeseriesGenerator at 0x25542dfa6a0>"
      ]
     },
     "execution_count": 14,
     "metadata": {},
     "output_type": "execute_result"
    }
   ],
   "source": [
    "generator"
   ]
  },
  {
   "cell_type": "code",
   "execution_count": 15,
   "id": "4cb15996",
   "metadata": {},
   "outputs": [
    {
     "name": "stdout",
     "output_type": "stream",
     "text": [
      "[[ 0  1  2  3  4  5  6  7  8  9]\n",
      " [ 1  2  3  4  5  6  7  8  9 10]\n",
      " [ 2  3  4  5  6  7  8  9 10 11]] -> [10 11 12]\n",
      "tf.Tensor(\n",
      "[[[ 0]\n",
      "  [ 1]\n",
      "  [ 2]\n",
      "  [ 3]\n",
      "  [ 4]\n",
      "  [ 5]\n",
      "  [ 6]\n",
      "  [ 7]\n",
      "  [ 8]\n",
      "  [ 9]]\n",
      "\n",
      " [[ 1]\n",
      "  [ 2]\n",
      "  [ 3]\n",
      "  [ 4]\n",
      "  [ 5]\n",
      "  [ 6]\n",
      "  [ 7]\n",
      "  [ 8]\n",
      "  [ 9]\n",
      "  [10]]\n",
      "\n",
      " [[ 2]\n",
      "  [ 3]\n",
      "  [ 4]\n",
      "  [ 5]\n",
      "  [ 6]\n",
      "  [ 7]\n",
      "  [ 8]\n",
      "  [ 9]\n",
      "  [10]\n",
      "  [11]]], shape=(3, 10, 1), dtype=int32)\n",
      "(array([[ 0,  1,  2,  3,  4,  5,  6,  7,  8,  9],\n",
      "       [ 1,  2,  3,  4,  5,  6,  7,  8,  9, 10],\n",
      "       [ 2,  3,  4,  5,  6,  7,  8,  9, 10, 11]]), array([10, 11, 12])) (array([[ 3,  4,  5,  6,  7,  8,  9, 10, 11, 12],\n",
      "       [ 4,  5,  6,  7,  8,  9, 10, 11, 12, 13],\n",
      "       [ 5,  6,  7,  8,  9, 10, 11, 12, 13, 14]]), array([13, 14, 15])) (array([[ 6,  7,  8,  9, 10, 11, 12, 13, 14, 15],\n",
      "       [ 7,  8,  9, 10, 11, 12, 13, 14, 15, 16],\n",
      "       [ 8,  9, 10, 11, 12, 13, 14, 15, 16, 17]]), array([16, 17, 18]))\n"
     ]
    }
   ],
   "source": [
    "for i,j in generator:\n",
    "    print(i, '->', j)\n",
    "    x = tf.expand_dims(i, axis=-1)\n",
    "    print(x,)\n",
    "    break\n",
    "print(generator[0], generator[1], generator[2])"
   ]
  },
  {
   "cell_type": "code",
   "execution_count": null,
   "id": "291af6ba",
   "metadata": {},
   "outputs": [],
   "source": []
  },
  {
   "cell_type": "code",
   "execution_count": 92,
   "id": "d1c10da0",
   "metadata": {},
   "outputs": [
    {
     "name": "stdout",
     "output_type": "stream",
     "text": [
      "Model: \"sequential_30\"\n",
      "_________________________________________________________________\n",
      "Layer (type)                 Output Shape              Param #   \n",
      "=================================================================\n",
      "lambda_8 (Lambda)            (None, 10, 1)             0         \n",
      "_________________________________________________________________\n",
      "lstm_29 (LSTM)               (None, 8)                 320       \n",
      "_________________________________________________________________\n",
      "flatten_6 (Flatten)          (None, 8)                 0         \n",
      "_________________________________________________________________\n",
      "dense_29 (Dense)             (None, 1)                 9         \n",
      "=================================================================\n",
      "Total params: 329\n",
      "Trainable params: 329\n",
      "Non-trainable params: 0\n",
      "_________________________________________________________________\n"
     ]
    }
   ],
   "source": [
    "model = Sequential([InputLayer(input_shape=(length,)),\n",
    "                    Lambda(lambda x: tf.expand_dims(x, axis=-1)),                    \n",
    "                    LSTM(8,  input_shape=(length, )),\n",
    "                    Flatten(),\n",
    "                    Dense(1)])\n",
    "model.compile(loss='mae', optimizer='adam', metrics=['mape'])\n",
    "model.summary()"
   ]
  },
  {
   "cell_type": "code",
   "execution_count": 93,
   "id": "5e46a627",
   "metadata": {},
   "outputs": [
    {
     "name": "stdout",
     "output_type": "stream",
     "text": [
      "Epoch 1/10\n",
      "90/90 [==============================] - 1s 3ms/step - loss: 53.9054 - mape: 98.1597\n",
      "Epoch 2/10\n",
      "90/90 [==============================] - 0s 3ms/step - loss: 53.2896 - mape: 96.3347\n",
      "Epoch 3/10\n",
      "90/90 [==============================] - 0s 3ms/step - loss: 52.1973 - mape: 93.1916\n",
      "Epoch 4/10\n",
      "90/90 [==============================] - 0s 3ms/step - loss: 50.2100 - mape: 88.4784\n",
      "Epoch 5/10\n",
      "90/90 [==============================] - 0s 3ms/step - loss: 48.5717 - mape: 83.7879\n",
      "Epoch 6/10\n",
      "90/90 [==============================] - 0s 3ms/step - loss: 46.3901 - mape: 78.9452\n",
      "Epoch 7/10\n",
      "90/90 [==============================] - 0s 3ms/step - loss: 45.2610 - mape: 76.0039\n",
      "Epoch 8/10\n",
      "90/90 [==============================] - 0s 3ms/step - loss: 44.3133 - mape: 73.4414\n",
      "Epoch 9/10\n",
      "90/90 [==============================] - 0s 3ms/step - loss: 43.1756 - mape: 70.7235\n",
      "Epoch 10/10\n",
      "90/90 [==============================] - 0s 3ms/step - loss: 42.1563 - mape: 68.5156\n"
     ]
    },
    {
     "data": {
      "text/plain": [
       "<keras.callbacks.History at 0x22f3daf8bb0>"
      ]
     },
     "execution_count": 93,
     "metadata": {},
     "output_type": "execute_result"
    }
   ],
   "source": [
    "model.fit(generator, epochs=10)"
   ]
  },
  {
   "cell_type": "code",
   "execution_count": null,
   "id": "7709429b",
   "metadata": {},
   "outputs": [],
   "source": []
  },
  {
   "cell_type": "code",
   "execution_count": 97,
   "id": "591e1d63",
   "metadata": {},
   "outputs": [
    {
     "data": {
      "text/plain": [
       "array([[0],\n",
       "       [1],\n",
       "       [2],\n",
       "       [3],\n",
       "       [4],\n",
       "       [5],\n",
       "       [6],\n",
       "       [7],\n",
       "       [8],\n",
       "       [9]])"
      ]
     },
     "execution_count": 97,
     "metadata": {},
     "output_type": "execute_result"
    }
   ],
   "source": [
    "import numpy as np\n",
    "train = range(100)\n",
    "# How many record to take into account\n",
    "length = 10\n",
    "batch_size = 1\n",
    "\n",
    "train = np.expand_dims(np.array(train), axis=-1)\n",
    "train[:10]"
   ]
  },
  {
   "cell_type": "code",
   "execution_count": 105,
   "id": "7ffe82bb",
   "metadata": {},
   "outputs": [
    {
     "data": {
      "text/plain": [
       "(1, 10, 1)"
      ]
     },
     "execution_count": 105,
     "metadata": {},
     "output_type": "execute_result"
    }
   ],
   "source": [
    "# 1 beacause it's univariate\n",
    "generator = TimeseriesGenerator(train, train, stride=1, length=length, batch_size=batch_size)\n",
    "generator[0][0].shape # (batch_size, number_of_steps, features) = (1, 10, 1)"
   ]
  },
  {
   "cell_type": "code",
   "execution_count": 102,
   "id": "93b81519",
   "metadata": {},
   "outputs": [
    {
     "name": "stdout",
     "output_type": "stream",
     "text": [
      "Model: \"sequential_33\"\n",
      "_________________________________________________________________\n",
      "Layer (type)                 Output Shape              Param #   \n",
      "=================================================================\n",
      "lstm_32 (LSTM)               (None, 8)                 320       \n",
      "_________________________________________________________________\n",
      "flatten_9 (Flatten)          (None, 8)                 0         \n",
      "_________________________________________________________________\n",
      "dense_32 (Dense)             (None, 1)                 9         \n",
      "=================================================================\n",
      "Total params: 329\n",
      "Trainable params: 329\n",
      "Non-trainable params: 0\n",
      "_________________________________________________________________\n"
     ]
    }
   ],
   "source": [
    "model = Sequential([InputLayer(input_shape=(length, 1)),\n",
    "                    #Lambda(lambda x: tf.expand_dims(x, axis=-1)),                    \n",
    "                    LSTM(8,  input_shape=(length, )),\n",
    "                    Flatten(),\n",
    "                    Dense(1)])\n",
    "model.compile(loss='mae', optimizer='adam', metrics=['mape'])\n",
    "model.summary()"
   ]
  },
  {
   "cell_type": "code",
   "execution_count": 103,
   "id": "247ba2b4",
   "metadata": {},
   "outputs": [
    {
     "name": "stdout",
     "output_type": "stream",
     "text": [
      "Epoch 1/10\n",
      "90/90 [==============================] - 2s 3ms/step - loss: 54.7885 - mape: 100.6274\n",
      "Epoch 2/10\n",
      "90/90 [==============================] - 0s 3ms/step - loss: 53.5366 - mape: 97.5498\n",
      "Epoch 3/10\n",
      "90/90 [==============================] - 0s 3ms/step - loss: 52.4501 - mape: 94.5615\n",
      "Epoch 4/10\n",
      "90/90 [==============================] - 0s 3ms/step - loss: 51.0509 - mape: 91.0557\n",
      "Epoch 5/10\n",
      "90/90 [==============================] - 0s 3ms/step - loss: 50.2010 - mape: 88.7372\n",
      "Epoch 6/10\n",
      "90/90 [==============================] - 0s 3ms/step - loss: 49.3650 - mape: 86.6638\n",
      "Epoch 7/10\n",
      "90/90 [==============================] - 0s 3ms/step - loss: 48.6483 - mape: 84.8250\n",
      "Epoch 8/10\n",
      "90/90 [==============================] - 0s 3ms/step - loss: 47.9534 - mape: 82.9457\n",
      "Epoch 9/10\n",
      "90/90 [==============================] - 0s 3ms/step - loss: 47.2683 - mape: 81.0963\n",
      "Epoch 10/10\n",
      "90/90 [==============================] - 0s 3ms/step - loss: 46.4347 - mape: 78.8692\n"
     ]
    },
    {
     "data": {
      "text/plain": [
       "<keras.callbacks.History at 0x22f438c0e80>"
      ]
     },
     "execution_count": 103,
     "metadata": {},
     "output_type": "execute_result"
    }
   ],
   "source": [
    "model.fit(generator, epochs=10)"
   ]
  },
  {
   "cell_type": "code",
   "execution_count": 2,
   "id": "d486d55b",
   "metadata": {},
   "outputs": [
    {
     "name": "stdout",
     "output_type": "stream",
     "text": [
      "(array([[0, 1, 2, 3, 4, 5, 6, 7, 8, 9]]), array([110])) (array([[ 1,  2,  3,  4,  5,  6,  7,  8,  9, 10]]), array([111]))\n"
     ]
    }
   ],
   "source": [
    "from tensorflow.keras.preprocessing.sequence import TimeseriesGenerator\n",
    "from tensorflow.keras import Sequential\n",
    "from tensorflow.keras.layers import SimpleRNN, Dense, LSTM, Lambda, Flatten, InputLayer\n",
    "import tensorflow as tf\n",
    "\n",
    "\n",
    "train = range(100)\n",
    "# How many record to take into account\n",
    "length = 10\n",
    "batch_size = 1\n",
    "\n",
    "labels = range(100, 200)\n",
    "\n",
    "# 1 beacause it's univariate\n",
    "generator = TimeseriesGenerator(train, labels, stride=1, length=length, batch_size=batch_size)\n",
    "\n",
    "print(generator[0], generator[1])\n"
   ]
  }
 ],
 "metadata": {
  "kernelspec": {
   "display_name": "Python 3 (ipykernel)",
   "language": "python",
   "name": "python3"
  },
  "language_info": {
   "codemirror_mode": {
    "name": "ipython",
    "version": 3
   },
   "file_extension": ".py",
   "mimetype": "text/x-python",
   "name": "python",
   "nbconvert_exporter": "python",
   "pygments_lexer": "ipython3",
   "version": "3.9.12"
  }
 },
 "nbformat": 4,
 "nbformat_minor": 5
}
